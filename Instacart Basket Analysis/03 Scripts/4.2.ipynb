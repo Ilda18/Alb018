{
 "cells": [
  {
   "cell_type": "code",
   "execution_count": 6,
   "id": "97791912",
   "metadata": {},
   "outputs": [],
   "source": [
    "x = 10+90"
   ]
  },
  {
   "cell_type": "code",
   "execution_count": 7,
   "id": "61f42152",
   "metadata": {},
   "outputs": [
    {
     "name": "stdout",
     "output_type": "stream",
     "text": [
      "100\n"
     ]
    }
   ],
   "source": [
    "print (x)"
   ]
  },
  {
   "cell_type": "code",
   "execution_count": 8,
   "id": "d6efdadf",
   "metadata": {},
   "outputs": [],
   "source": [
    "x = 1*100"
   ]
  },
  {
   "cell_type": "code",
   "execution_count": 9,
   "id": "c3262b02",
   "metadata": {},
   "outputs": [
    {
     "name": "stdout",
     "output_type": "stream",
     "text": [
      "100\n"
     ]
    }
   ],
   "source": [
    "print (x)"
   ]
  },
  {
   "cell_type": "code",
   "execution_count": null,
   "id": "ba826aac",
   "metadata": {},
   "outputs": [],
   "source": [
    "x=101-1"
   ]
  },
  {
   "cell_type": "code",
   "execution_count": 10,
   "id": "15e08224",
   "metadata": {},
   "outputs": [
    {
     "name": "stdout",
     "output_type": "stream",
     "text": [
      "100\n"
     ]
    }
   ],
   "source": [
    "print (x)"
   ]
  },
  {
   "cell_type": "markdown",
   "id": "05f25b24",
   "metadata": {},
   "source": [
    "\"# Code 2 floating-point variables and divide them by each other.\""
   ]
  },
  {
   "cell_type": "code",
   "execution_count": 24,
   "id": "cc4612a9",
   "metadata": {},
   "outputs": [],
   "source": [
    "a=16.254"
   ]
  },
  {
   "cell_type": "code",
   "execution_count": 28,
   "id": "1ac6ff2d",
   "metadata": {},
   "outputs": [
    {
     "data": {
      "text/plain": [
       "float"
      ]
     },
     "execution_count": 28,
     "metadata": {},
     "output_type": "execute_result"
    }
   ],
   "source": [
    "type(a)"
   ]
  },
  {
   "cell_type": "code",
   "execution_count": 25,
   "id": "544940ce",
   "metadata": {},
   "outputs": [],
   "source": [
    "b=4.85"
   ]
  },
  {
   "cell_type": "code",
   "execution_count": 29,
   "id": "fa5b0f6a",
   "metadata": {},
   "outputs": [
    {
     "data": {
      "text/plain": [
       "float"
      ]
     },
     "execution_count": 29,
     "metadata": {},
     "output_type": "execute_result"
    }
   ],
   "source": [
    "type(b)"
   ]
  },
  {
   "cell_type": "code",
   "execution_count": 26,
   "id": "81d456ef",
   "metadata": {},
   "outputs": [],
   "source": [
    "c=a/b"
   ]
  },
  {
   "cell_type": "code",
   "execution_count": 27,
   "id": "68a96d03",
   "metadata": {},
   "outputs": [
    {
     "name": "stdout",
     "output_type": "stream",
     "text": [
      "3.3513402061855677\n"
     ]
    }
   ],
   "source": [
    "print(c)"
   ]
  },
  {
   "cell_type": "markdown",
   "id": "c42f5e85",
   "metadata": {},
   "source": [
    " \"# Construct a short word made of separate strings\""
   ]
  },
  {
   "cell_type": "code",
   "execution_count": 48,
   "id": "500afd4b",
   "metadata": {},
   "outputs": [],
   "source": [
    "a = 'MONEY'"
   ]
  },
  {
   "cell_type": "code",
   "execution_count": 49,
   "id": "02f11e49",
   "metadata": {},
   "outputs": [
    {
     "data": {
      "text/plain": [
       "str"
      ]
     },
     "execution_count": 49,
     "metadata": {},
     "output_type": "execute_result"
    }
   ],
   "source": [
    "type(a)"
   ]
  },
  {
   "cell_type": "markdown",
   "id": "77d265d2",
   "metadata": {},
   "source": [
    "''#Construct 2 short sentences made of separate strings.''"
   ]
  },
  {
   "cell_type": "code",
   "execution_count": 56,
   "id": "3124ece4",
   "metadata": {},
   "outputs": [],
   "source": [
    "a = 'HELLO Jupyter world, '"
   ]
  },
  {
   "cell_type": "code",
   "execution_count": 58,
   "id": "61035ff2",
   "metadata": {},
   "outputs": [],
   "source": [
    "b = 'very nice to meet you all!'"
   ]
  },
  {
   "cell_type": "code",
   "execution_count": 59,
   "id": "1d9740be",
   "metadata": {},
   "outputs": [
    {
     "data": {
      "text/plain": [
       "'HELLO Jupyter world, very nice to meet you all!'"
      ]
     },
     "execution_count": 59,
     "metadata": {},
     "output_type": "execute_result"
    }
   ],
   "source": [
    "a+b"
   ]
  },
  {
   "cell_type": "markdown",
   "id": "5a16611a",
   "metadata": {},
   "source": [
    "#At the bottom of your file, include a command that makes a string appear 100 times."
   ]
  },
  {
   "cell_type": "code",
   "execution_count": 63,
   "id": "81348ebc",
   "metadata": {},
   "outputs": [],
   "source": [
    "a = 'ILDA '"
   ]
  },
  {
   "cell_type": "code",
   "execution_count": 64,
   "id": "79443a9e",
   "metadata": {},
   "outputs": [
    {
     "data": {
      "text/plain": [
       "'ILDA ILDA ILDA ILDA ILDA ILDA ILDA ILDA ILDA ILDA ILDA ILDA ILDA ILDA ILDA ILDA ILDA ILDA ILDA ILDA ILDA ILDA ILDA ILDA ILDA ILDA ILDA ILDA ILDA ILDA ILDA ILDA ILDA ILDA ILDA ILDA ILDA ILDA ILDA ILDA ILDA ILDA ILDA ILDA ILDA ILDA ILDA ILDA ILDA ILDA ILDA ILDA ILDA ILDA ILDA ILDA ILDA ILDA ILDA ILDA ILDA ILDA ILDA ILDA ILDA ILDA ILDA ILDA ILDA ILDA ILDA ILDA ILDA ILDA ILDA ILDA ILDA ILDA ILDA ILDA ILDA ILDA ILDA ILDA ILDA ILDA ILDA ILDA ILDA ILDA ILDA ILDA ILDA ILDA ILDA ILDA ILDA ILDA ILDA ILDA '"
      ]
     },
     "execution_count": 64,
     "metadata": {},
     "output_type": "execute_result"
    }
   ],
   "source": [
    "a * 100"
   ]
  },
  {
   "cell_type": "code",
   "execution_count": null,
   "id": "31a124d8",
   "metadata": {},
   "outputs": [],
   "source": []
  }
 ],
 "metadata": {
  "kernelspec": {
   "display_name": "Python 3 (ipykernel)",
   "language": "python",
   "name": "python3"
  },
  "language_info": {
   "codemirror_mode": {
    "name": "ipython",
    "version": 3
   },
   "file_extension": ".py",
   "mimetype": "text/x-python",
   "name": "python",
   "nbconvert_exporter": "python",
   "pygments_lexer": "ipython3",
   "version": "3.9.13"
  }
 },
 "nbformat": 4,
 "nbformat_minor": 5
}
